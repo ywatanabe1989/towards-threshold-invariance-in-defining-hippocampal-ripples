{
 "cells": [
  {
   "cell_type": "code",
   "execution_count": 1,
   "id": "7979a9e9",
   "metadata": {
    "collapsed": false
   },
   "outputs": [],
   "source": [
    "import sys\n",
    "\n",
    "import numpy as np\n",
    "import torch.nn as nn\n",
    "\n",
    "sys.path.append(\".\")\n",
    "import random\n",
    "\n",
    "import utils\n",
    "from models.ResNet1D.ResNet1D import ResNet1D\n",
    "from scipy.signal import resample_poly\n",
    "import matplotlib.pyplot as plt\n",
    "import torch\n"
   ]
  },
  {
   "cell_type": "markdown",
   "id": "196088f4",
   "metadata": {
    "collapsed": false
   },
   "source": [
    "Parameters"
   ]
  },
  {
   "cell_type": "code",
   "execution_count": 2,
   "id": "be66c02f",
   "metadata": {
    "collapsed": false
   },
   "outputs": [],
   "source": [
    "samp_rate = 1000"
   ]
  },
  {
   "cell_type": "markdown",
   "id": "4bc7163d",
   "metadata": {
    "collapsed": false
   },
   "source": [
    "Loads signal"
   ]
  },
  {
   "cell_type": "code",
   "execution_count": 3,
   "id": "c7ed9f34",
   "metadata": {
    "collapsed": false
   },
   "outputs": [],
   "source": [
    "fpath = \"data/th-1/data/Mouse12-120806/Mouse12-120806.eeg\"\n",
    "LFPs_1250Hz, prop_dict = utils.pj.load.th_1(\n",
    "    lpath_eeg=fpath, start_sec_cut=0, dur_sec_cut=-1\n",
    ")\n"
   ]
  },
  {
   "cell_type": "markdown",
   "id": "473aa6ac",
   "metadata": {
    "collapsed": false
   },
   "source": [
    "Downsamples the signal from 1250 to 1000 Hz\n",
    "# 1,250 -> *4 upsampling -> 5,000 -> /5 downsampling -> 1,000 Hz"
   ]
  },
  {
   "cell_type": "code",
   "execution_count": 4,
   "id": "51c49e40",
   "metadata": {
    "collapsed": false
   },
   "outputs": [],
   "source": [
    "LFPs = resample_poly(LFPs_1250Hz, 4, 5, axis=1).astype(np.float32)"
   ]
  },
  {
   "cell_type": "markdown",
   "id": "7c6fd016",
   "metadata": {
    "collapsed": false
   },
   "source": [
    "Use only a part of signal for the computational reason"
   ]
  },
  {
   "cell_type": "code",
   "execution_count": 5,
   "id": "753f7e55",
   "metadata": {
    "collapsed": false
   },
   "outputs": [],
   "source": [
    "lfp_all = LFPs[0][:, np.newaxis]\n",
    "lfp_start_sec = 0\n",
    "lfp_end_sec = 300  # 5 min\n",
    "lfp_step_sec = float(1 / samp_rate)\n",
    "lfp_time_x = np.arange(lfp_start_sec, lfp_end_sec, lfp_step_sec).round(3)\n",
    "lfp = lfp_all[lfp_start_sec * samp_rate : lfp_end_sec * samp_rate]\n"
   ]
  },
  {
   "cell_type": "markdown",
   "id": "e8cf5941",
   "metadata": {
    "collapsed": false
   },
   "source": [
    "Detects Ripple Candidates"
   ]
  },
  {
   "cell_type": "code",
   "execution_count": 6,
   "id": "57683ddf",
   "metadata": {
    "collapsed": false
   },
   "outputs": [
    {
     "name": "stdout",
     "output_type": "stream",
     "text": [
      "\n",
      "Detecting ripples from data/th-1/data/Mouse12-120806/Mouse12-120806.eeg (Length: 0.1h)\n",
      "\n",
      "\n",
      "Ripple Band 150-250 Hz\n",
      "\n"
     ]
    }
   ],
   "source": [
    "lfp_h = len(lfp) / samp_rate / 60 / 60\n",
    "print(f\"\\nDetecting ripples from {fpath} (Length: {lfp_h:.1f}h)\\n\".format())\n",
    "\n",
    "lo_hz_ripple = utils.general.load(\"./conf/global.yaml\")[\"RIPPLE_CANDI_LIM_HZ\"][0]\n",
    "hi_hz_ripple = utils.general.load(\"./conf/global.yaml\")[\"RIPPLE_CANDI_LIM_HZ\"][1]\n",
    "_, _, rip_sec = utils.pj.define_ripple_candidates(\n",
    "    lfp_time_x,\n",
    "    lfp,\n",
    "    samp_rate,\n",
    "    lo_hz=lo_hz_ripple,\n",
    "    hi_hz=hi_hz_ripple,\n",
    "    zscore_threshold=1,\n",
    ")\n",
    "rip_sec = rip_sec.reset_index()\n"
   ]
  },
  {
   "cell_type": "markdown",
   "id": "c9bae319",
   "metadata": {
    "collapsed": false
   },
   "source": [
    "Checks whether each ripple can be separated in 400-ms segment"
   ]
  },
  {
   "cell_type": "code",
   "execution_count": 7,
   "id": "76276135",
   "metadata": {
    "collapsed": false
   },
   "outputs": [],
   "source": [
    "def check_if_a_ripple_candidate_is_separable(rip_sec, i_rip, window_size_pts=400):\n",
    "    window_size_sec = window_size_pts / samp_rate\n",
    "\n",
    "    ## Condition 1\n",
    "    rip_i = rip_sec.iloc[i_rip]\n",
    "    is_rip_i_short = (rip_i[\"end_sec\"] - rip_i[\"start_sec\"]) < window_size_sec\n",
    "\n",
    "    ## Condition 2\n",
    "    if i_rip != 0:\n",
    "        rip_i_minus_1 = rip_sec.iloc[i_rip - 1]\n",
    "        before_end_sec = rip_i_minus_1[\"end_sec\"]\n",
    "    else:\n",
    "        before_end_sec = 0\n",
    "\n",
    "    if i_rip != len(rip_sec) - 1:\n",
    "        rip_i_plus_1 = rip_sec.iloc[i_rip + 1]\n",
    "        next_start_sec = rip_i_plus_1[\"start_sec\"]\n",
    "    else:\n",
    "        next_start_sec = before_end_sec + window_size_sec\n",
    "\n",
    "    is_inter_ripple_interval_long = window_size_sec < (next_start_sec - before_end_sec)\n",
    "    is_rip_i_separable = is_rip_i_short & is_inter_ripple_interval_long\n",
    "    return is_rip_i_separable\n"
   ]
  },
  {
   "cell_type": "code",
   "execution_count": 8,
   "id": "f08d834b",
   "metadata": {
    "collapsed": false
   },
   "outputs": [],
   "source": [
    "def separate_a_ripple_candidate(lfp, rip_sec, i_rip, window_size_pts=400):\n",
    "    samp_rate = 1000\n",
    "    # window_size_sec = window_size_pts / samp_rate\n",
    "    rip = rip_sec.iloc[i_rip].copy()\n",
    "    dur_sec = rip[\"end_sec\"] - rip[\"start_sec\"]\n",
    "    dur_pts = int(dur_sec * samp_rate)\n",
    "    dof = window_size_pts - dur_pts\n",
    "    cut_start_pts = int(rip[\"start_sec\"] * samp_rate) - random.randint(0, dof)\n",
    "    lfp_cut = lfp[cut_start_pts : cut_start_pts + window_size_pts]\n",
    "    return lfp_cut\n"
   ]
  },
  {
   "cell_type": "code",
   "execution_count": 9,
   "id": "7b8218c8",
   "metadata": {
    "collapsed": false
   },
   "outputs": [],
   "source": [
    "rip_sec[\"duration_sec\"] = rip_sec[\"end_sec\"] - rip_sec[\"start_sec\"]\n",
    "# (rip_sec[\"duration_sec\"] * 1000).hist(bins=100)\n",
    "# plt.show()\n",
    "\n",
    "rip_sec[\"is_separable\"] = [\n",
    "    check_if_a_ripple_candidate_is_separable(rip_sec, i_rip)\n",
    "    for i_rip in range(len(rip_sec))\n",
    "]\n",
    "\n",
    "rip_sec[\"cut_LFP\"] = np.nan\n",
    "rip_sec[\"cut_LFP\"] = rip_sec[\"cut_LFP\"].astype(object)\n",
    "for i_rip in range(len(rip_sec)):\n",
    "    if rip_sec.iloc[i_rip][\"is_separable\"]:\n",
    "        rip_sec.loc[i_rip, \"cut_LFP\"] = separate_a_ripple_candidate(lfp, rip_sec, i_rip)\n"
   ]
  },
  {
   "cell_type": "markdown",
   "id": "66b151c8",
   "metadata": {
    "collapsed": false
   },
   "source": [
    "Loads the trained model"
   ]
  },
  {
   "cell_type": "code",
   "execution_count": 10,
   "id": "3029dcf5",
   "metadata": {
    "collapsed": false
   },
   "outputs": [
    {
     "data": {
      "text/plain": [
       "<All keys matched successfully>"
      ]
     },
     "execution_count": 10,
     "metadata": {},
     "output_type": "execute_result"
    }
   ],
   "source": [
    "MODEL_CONF = utils.general.load(\"./models/ResNet1D/ResNet1D.yaml\")\n",
    "model = ResNet1D(MODEL_CONF)\n",
    "model = model.to(\"cuda\")\n",
    "model.eval()\n",
    "checkpoints = utils.general.load(\n",
    "    \"./ripples/detect_ripples/CNN/train_FvsT/checkpoints/mouse_test#01_epoch#000.pth\"\n",
    ")\n",
    "model.load_state_dict(\n",
    "    utils.general.cvt_multi2single_model_state_dict(checkpoints[\"model_state_dict\"])\n",
    ")\n"
   ]
  },
  {
   "cell_type": "markdown",
   "id": "af66b5b2",
   "metadata": {
    "collapsed": false
   },
   "source": [
    "Estimates the ripple probabilities"
   ]
  },
  {
   "cell_type": "code",
   "execution_count": 11,
   "id": "da3d7e4b",
   "metadata": {
    "collapsed": false
   },
   "outputs": [
    {
     "name": "stdout",
     "output_type": "stream",
     "text": [
      "\n",
      "Matplotilb has been configured as follows:\n",
      "{'figure.dpi': 100, 'savefig.dpi': 300, 'figure.figsize': '(16.2, 10) [cm]', 'font.size': 8, 'axes.labelsize': 8, 'xtick.labelsize': 8, 'ytick.labelsize': 8, 'axes.titlesize': 8, 'legend.fontsize': 7, 'pdf.fonttype': 42, 'ps.fonttype': 42, 'axes.spines.top': True, 'axes.spines.right': True}.\n",
      "\n"
     ]
    }
   ],
   "source": [
    "softmax = nn.Softmax(dim=-1)\n",
    "batch_size = 128\n",
    "labels = {0: \"F\", 1: \"T\"}\n",
    "utils.plt.configure_mpl(plt, dpi=100, figscale=1, fontsize=8, legendfontsize=7)\n",
    "\n",
    "\n",
    "rip_sec[\"pred_proba_for_ripple\"] = np.nan  # initialization\n",
    "n_batches = len(rip_sec) // batch_size + 1\n",
    "for i_batch in range(n_batches):\n",
    "    ## Samples\n",
    "    start_idx = i_batch * batch_size\n",
    "    end_idx = (i_batch + 1) * batch_size\n",
    "    _Xb = rip_sec[\"cut_LFP\"].iloc[start_idx:end_idx]\n",
    "    indi = _Xb.index[~_Xb.isna()]  # _indi[~_Xb.isna()]\n",
    "    Xb = rip_sec[\"cut_LFP\"].iloc[indi]\n",
    "\n",
    "    ## NN Outputs\n",
    "    Xb = torch.tensor(np.vstack(Xb).astype(np.float32)).cuda()\n",
    "    logits = model(Xb)\n",
    "    pred_proba = softmax(logits)\n",
    "    # pred_class = pred_proba.argmax(dim=-1)  # 0: T, 1: F\n",
    "\n",
    "    rip_sec.loc[indi, \"pred_proba_for_ripple\"] = (\n",
    "        pred_proba[:, 1].detach().cpu().numpy().copy()\n",
    "    )\n"
   ]
  },
  {
   "cell_type": "markdown",
   "id": "6ac2d9eb",
   "metadata": {
    "collapsed": false
   },
   "source": [
    "Plots"
   ]
  },
  {
   "cell_type": "code",
   "execution_count": 25,
   "id": "c700f459",
   "metadata": {
    "collapsed": false
   },
   "outputs": [
    {
     "name": "stdout",
     "output_type": "stream",
     "text": [
      "\n",
      "Matplotilb has been configured as follows:\n",
      "{'figure.dpi': 100, 'savefig.dpi': 300, 'figure.figsize': '(24.0, 12.0) [cm]', 'font.size': 8, 'axes.labelsize': 8, 'xtick.labelsize': 8, 'ytick.labelsize': 8, 'axes.titlesize': 8, 'legend.fontsize': 7, 'pdf.fonttype': 42, 'ps.fonttype': 42, 'axes.spines.top': False, 'axes.spines.right': False, 'xtick.major.size': 2.032, 'ytick.major.size': 2.032, 'xtick.major.width': 0.508, 'ytick.major.width': 0.508}.\n",
      "\n"
     ]
    },
    {
     "name": "stderr",
     "output_type": "stream",
     "text": [
      "/usr/local/lib64/python3.8/site-packages/pandas/core/indexing.py:1732: SettingWithCopyWarning: \n",
      "A value is trying to be set on a copy of a slice from a DataFrame\n",
      "\n",
      "See the caveats in the documentation: https://pandas.pydata.org/pandas-docs/stable/user_guide/indexing.html#returning-a-view-versus-a-copy\n",
      "  self._setitem_single_block(indexer, value, name)\n",
      "/tmp/ipykernel_85364/3374464010.py:61: UserWarning: Matplotlib is currently using module://matplotlib_inline.backend_inline, which is a non-GUI backend, so cannot show the figure.\n",
      "  fig.show()\n"
     ]
    },
    {
     "data": {
      "image/png": "[encoded data removed]",
      "text/plain": [
       "<Figure size 850.394x425.197 with 1 Axes>"
      ]
     },
     "metadata": {
      "needs_background": "light"
     },
     "output_type": "display_data"
    }
   ],
   "source": [
    "utils.plt.configure_mpl(\n",
    "    plt,\n",
    "    dpi=100,\n",
    "    # figsize=(18.1, 10),\n",
    "    figsize=(24, 12),    \n",
    "    # figscale=1.2,\n",
    "    fontsize=8,\n",
    "    labelsize=8,\n",
    "    legendfontsize=7,\n",
    "    tick_size=0.8,\n",
    "    tick_width=0.2,\n",
    "    hide_spines=True,\n",
    ")\n",
    "\n",
    "fig, ax = plt.subplots()\n",
    "start_plt_sec = 4\n",
    "dur_plt_sec = 6\n",
    "end_plt_sec = start_plt_sec + dur_plt_sec\n",
    "start_plt_pts = start_plt_sec * samp_rate\n",
    "end_plt_pts = end_plt_sec * samp_rate\n",
    "\n",
    "lfp_plt = lfp[start_plt_pts:end_plt_pts]\n",
    "\n",
    "x_pts = np.arange(len(lfp))\n",
    "x_sec = x_pts / samp_rate\n",
    "x_plt_sec = x_sec[start_plt_pts:end_plt_pts]\n",
    "\n",
    "rip_sec_plt = rip_sec[\n",
    "    (start_plt_sec <= rip_sec[\"end_sec\"]) & (rip_sec[\"start_sec\"] <= end_plt_sec)\n",
    "]\n",
    "rip_sec_plt[\"end_sec\"].iloc[-1] = np.clip(\n",
    "    rip_sec_plt[\"end_sec\"].iloc[-1], 0, end_plt_sec\n",
    ")\n",
    "\n",
    "\n",
    "## Original\n",
    "ax.plot(x_plt_sec, lfp_plt, label=\"LFP\", linewidth=0.2, color=\"black\")\n",
    "\n",
    "## Ripple\n",
    "for i_rip in range(len(rip_sec_plt)):\n",
    "    row = rip_sec_plt.iloc[i_rip]\n",
    "    rip_sec_med = (row[\"start_sec\"] + row[\"end_sec\"]) / 2\n",
    "    ax.text(rip_sec_med - 0.05, 800, str(round(row[\"pred_proba_for_ripple\"], 3)))\n",
    "\n",
    "    color_str = \"gray\" if np.isnan(row[\"pred_proba_for_ripple\"]) else \"blue\"\n",
    "    color = utils.plt.colors.to_RGBA(\n",
    "        color_str,\n",
    "        alpha=0.2,\n",
    "    )\n",
    "\n",
    "    ax.axvspan(\n",
    "        row.start_sec,\n",
    "        row.end_sec - 1.0 / samp_rate,\n",
    "        color=color,\n",
    "        zorder=1000,\n",
    "    )\n",
    "\n",
    "ax = utils.plt.ax_set_n_ticks(ax)\n",
    "ax.set_ylabel(f\"Amplitude [$\\mu$V]\")\n",
    "ax.set_xlabel(\"Time [sec]\")\n",
    "fig.show()\n"
   ]
  }
 ],
 "metadata": {
  "kernelspec": {
   "argv": [
    "python",
    "-m",
    "ipykernel_launcher",
    "-f",
    "{connection_file}"
   ],
   "display_name": "Python 3 (ipykernel)",
   "env": null,
   "interrupt_mode": "signal",
   "language": "python",
   "metadata": {
    "debugger": true
   },
   "name": "python3"
  },
  "name": "Untitled1.ipynb"
 },
 "nbformat": 4,
 "nbformat_minor": 5
}
