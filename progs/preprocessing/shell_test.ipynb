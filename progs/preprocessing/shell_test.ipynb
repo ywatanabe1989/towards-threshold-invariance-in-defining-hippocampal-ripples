{
 "cells": [
  {
   "cell_type": "code",
   "execution_count": 2,
   "id": "convinced-generation",
   "metadata": {},
   "outputs": [
    {
     "name": "stdout",
     "output_type": "stream",
     "text": [
      "hello\n"
     ]
    }
   ],
   "source": [
    "%%bash\n",
    "echo \"hello\""
   ]
  },
  {
   "cell_type": "code",
   "execution_count": 4,
   "id": "auburn-amber",
   "metadata": {},
   "outputs": [
    {
     "name": "stdout",
     "output_type": "stream",
     "text": [
      "1\n",
      "2\n",
      "3\n",
      "4\n",
      "5\n"
     ]
    }
   ],
   "source": [
    "%%bash\n",
    "for i in {1..5}\n",
    "do\n",
    "    echo \"$i\"\n",
    "done    "
   ]
  },
  {
   "cell_type": "code",
   "execution_count": null,
   "id": "international-intro",
   "metadata": {},
   "outputs": [],
   "source": []
  }
 ],
 "metadata": {
  "kernelspec": {
   "display_name": "Python 3",
   "language": "python",
   "name": "python3"
  },
  "language_info": {
   "codemirror_mode": {
    "name": "ipython",
    "version": 3
   },
   "file_extension": ".py",
   "mimetype": "text/x-python",
   "name": "python",
   "nbconvert_exporter": "python",
   "pygments_lexer": "ipython3",
   "version": "3.8.8"
  }
 },
 "nbformat": 4,
 "nbformat_minor": 5
}
